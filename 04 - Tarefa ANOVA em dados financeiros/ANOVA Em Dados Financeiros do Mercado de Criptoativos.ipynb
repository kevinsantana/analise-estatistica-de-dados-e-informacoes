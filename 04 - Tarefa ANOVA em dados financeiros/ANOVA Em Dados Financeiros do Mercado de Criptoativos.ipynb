{
 "cells": [
  {
   "cell_type": "markdown",
   "id": "2fbda604",
   "metadata": {},
   "source": [
    "## ANOVA Em Dados Financeiros do Mercado de Criptoativos"
   ]
  },
  {
   "cell_type": "markdown",
   "id": "54318fae",
   "metadata": {},
   "source": [
    "## Importando as Bibliotecas"
   ]
  },
  {
   "cell_type": "code",
   "execution_count": 94,
   "id": "10235cec",
   "metadata": {},
   "outputs": [],
   "source": [
    "import requests\n",
    "\n",
    "import numpy as np\n",
    "import pandas as pd\n",
    "\n",
    "import scipy.stats as stats\n",
    "from scipy.stats import levene, bartlett\n",
    "\n",
    "import statsmodels.api as sm\n",
    "import matplotlib.pyplot as plt"
   ]
  },
  {
   "cell_type": "markdown",
   "id": "a22e45d4",
   "metadata": {},
   "source": [
    "### Construindo uma Base de Dados Financeiros com Ações Do Mercado De Criptoativos"
   ]
  },
  {
   "cell_type": "markdown",
   "id": "dd0bd64e",
   "metadata": {},
   "source": [
    "O Mercado Bitcoin, maior corretora de criptomoedas da América Latina, disponibiliza uma [API pública](https://www.mercadobitcoin.com.br/api-doc/#method_trade_api_daysummary) onde é possível consultar o resumo diário de negociações realizadas para um dado criptoativo.\n",
    "\n",
    "\n",
    "Realizando a seguinte [chamada](https://www.mercadobitcoin.net/api/BTC/day-summary/2022/6/29/) tem-se os dados de negociação (compra e venda) do criptoativo \\textit{Bitcoin} (BTC) para o dia 29/06/2022. Desta maneira, serão realizadas chamadas a API pública com intuito de construir uma Base de Dados com os ativos BITCOIN(BTC), CARDANO (ADA), LITECOIN(LTC), CHILIZ(CHZ), USDC, NANO(LINK) ao longo dos anos de 2020 a 2022, em todos os dias e meses do ano."
   ]
  },
  {
   "cell_type": "code",
   "execution_count": 2,
   "id": "309468c8",
   "metadata": {},
   "outputs": [],
   "source": [
    "ativos = {\"BITCOIN\": \"BTC\", \"CARDANO\": \"ADA\", \"LITECOIN\": \"LTC\", \"CHILIZ\": \"CHZ\", \"USDC\": \"USDC\", \"NANO\": \"LINK\"}\n",
    "anos = [2020, 2021, 2022]\n",
    "meses = [1, 2, 3, 4, 5, 6, 7, 8, 9, 10, 11, 12]\n",
    "dias = list(range(1, 32))"
   ]
  },
  {
   "cell_type": "code",
   "execution_count": null,
   "id": "3b1bfe21",
   "metadata": {},
   "outputs": [],
   "source": [
    "resumo_ativos = []\n",
    "url_resumo_diario = \"https://www.mercadobitcoin.net/api/{ativo}/day-summary/{ano}/{mes}/{dia}/\"\n",
    "\n",
    "for ativo in ativos.values():\n",
    "    print(ativo)\n",
    "    resumo_ativo = []\n",
    "    for ano in anos:\n",
    "        print(ano)\n",
    "        for mes in meses:\n",
    "            # pular os meses futuros do ano de 2022\n",
    "            if ano == 2022 and mes > 7:\n",
    "                continue\n",
    "            for dia in dias:\n",
    "                # pular os dias futuros de julho de 2022\n",
    "                if ano == 2022 and mes == 7 and dia >= 25:\n",
    "                    continue\n",
    "                url_dia_formatada = url_resumo_diario.format(ativo=ativo,ano=ano, mes=mes, dia=dia)\n",
    "                resposta = requests.get(url=url_dia_formatada)\n",
    "                if resposta.status_code == 200:\n",
    "                    resumo_ativo.append(resposta.json())\n",
    "                else:\n",
    "                    continue\n",
    "    resumo_ativos.append(resumo_ativo)"
   ]
  },
  {
   "cell_type": "code",
   "execution_count": null,
   "id": "12a40bcc",
   "metadata": {},
   "outputs": [],
   "source": [
    "resumo_ativos"
   ]
  },
  {
   "cell_type": "code",
   "execution_count": 25,
   "id": "d0fbb3de",
   "metadata": {},
   "outputs": [
    {
     "data": {
      "text/html": [
       "<div>\n",
       "<style scoped>\n",
       "    .dataframe tbody tr th:only-of-type {\n",
       "        vertical-align: middle;\n",
       "    }\n",
       "\n",
       "    .dataframe tbody tr th {\n",
       "        vertical-align: top;\n",
       "    }\n",
       "\n",
       "    .dataframe thead th {\n",
       "        text-align: right;\n",
       "    }\n",
       "</style>\n",
       "<table border=\"1\" class=\"dataframe\">\n",
       "  <thead>\n",
       "    <tr style=\"text-align: right;\">\n",
       "      <th></th>\n",
       "      <th>BITCOIN</th>\n",
       "      <th>CARDANO</th>\n",
       "      <th>LITECOIN</th>\n",
       "      <th>CHILIZ</th>\n",
       "      <th>USDC</th>\n",
       "      <th>NANO</th>\n",
       "    </tr>\n",
       "  </thead>\n",
       "  <tbody>\n",
       "    <tr>\n",
       "      <th>0</th>\n",
       "      <td>29118.000000</td>\n",
       "      <td>12.89956</td>\n",
       "      <td>167.09015</td>\n",
       "      <td>0.07000</td>\n",
       "      <td>5.44500</td>\n",
       "      <td>60.37949</td>\n",
       "    </tr>\n",
       "    <tr>\n",
       "      <th>1</th>\n",
       "      <td>28010.000000</td>\n",
       "      <td>12.43990</td>\n",
       "      <td>160.94876</td>\n",
       "      <td>0.06800</td>\n",
       "      <td>5.38850</td>\n",
       "      <td>62.54979</td>\n",
       "    </tr>\n",
       "    <tr>\n",
       "      <th>2</th>\n",
       "      <td>29670.481710</td>\n",
       "      <td>12.40000</td>\n",
       "      <td>170.29813</td>\n",
       "      <td>0.06540</td>\n",
       "      <td>5.46790</td>\n",
       "      <td>64.27989</td>\n",
       "    </tr>\n",
       "    <tr>\n",
       "      <th>3</th>\n",
       "      <td>30000.991580</td>\n",
       "      <td>12.33131</td>\n",
       "      <td>173.06007</td>\n",
       "      <td>0.06510</td>\n",
       "      <td>5.44001</td>\n",
       "      <td>65.48000</td>\n",
       "    </tr>\n",
       "    <tr>\n",
       "      <th>4</th>\n",
       "      <td>30199.990000</td>\n",
       "      <td>12.07408</td>\n",
       "      <td>177.90000</td>\n",
       "      <td>0.06439</td>\n",
       "      <td>5.39874</td>\n",
       "      <td>65.57001</td>\n",
       "    </tr>\n",
       "    <tr>\n",
       "      <th>...</th>\n",
       "      <td>...</td>\n",
       "      <td>...</td>\n",
       "      <td>...</td>\n",
       "      <td>...</td>\n",
       "      <td>...</td>\n",
       "      <td>...</td>\n",
       "    </tr>\n",
       "    <tr>\n",
       "      <th>949</th>\n",
       "      <td>125000.000000</td>\n",
       "      <td>NaN</td>\n",
       "      <td>304.00004</td>\n",
       "      <td>NaN</td>\n",
       "      <td>NaN</td>\n",
       "      <td>NaN</td>\n",
       "    </tr>\n",
       "    <tr>\n",
       "      <th>950</th>\n",
       "      <td>126708.000000</td>\n",
       "      <td>NaN</td>\n",
       "      <td>318.47012</td>\n",
       "      <td>NaN</td>\n",
       "      <td>NaN</td>\n",
       "      <td>NaN</td>\n",
       "    </tr>\n",
       "    <tr>\n",
       "      <th>951</th>\n",
       "      <td>126017.000000</td>\n",
       "      <td>NaN</td>\n",
       "      <td>311.44263</td>\n",
       "      <td>NaN</td>\n",
       "      <td>NaN</td>\n",
       "      <td>NaN</td>\n",
       "    </tr>\n",
       "    <tr>\n",
       "      <th>952</th>\n",
       "      <td>124115.769950</td>\n",
       "      <td>NaN</td>\n",
       "      <td>313.65668</td>\n",
       "      <td>NaN</td>\n",
       "      <td>NaN</td>\n",
       "      <td>NaN</td>\n",
       "    </tr>\n",
       "    <tr>\n",
       "      <th>953</th>\n",
       "      <td>121148.148952</td>\n",
       "      <td>NaN</td>\n",
       "      <td>311.61799</td>\n",
       "      <td>NaN</td>\n",
       "      <td>NaN</td>\n",
       "      <td>NaN</td>\n",
       "    </tr>\n",
       "  </tbody>\n",
       "</table>\n",
       "<p>954 rows × 6 columns</p>\n",
       "</div>"
      ],
      "text/plain": [
       "           BITCOIN   CARDANO   LITECOIN   CHILIZ     USDC      NANO\n",
       "0     29118.000000  12.89956  167.09015  0.07000  5.44500  60.37949\n",
       "1     28010.000000  12.43990  160.94876  0.06800  5.38850  62.54979\n",
       "2     29670.481710  12.40000  170.29813  0.06540  5.46790  64.27989\n",
       "3     30000.991580  12.33131  173.06007  0.06510  5.44001  65.48000\n",
       "4     30199.990000  12.07408  177.90000  0.06439  5.39874  65.57001\n",
       "..             ...       ...        ...      ...      ...       ...\n",
       "949  125000.000000       NaN  304.00004      NaN      NaN       NaN\n",
       "950  126708.000000       NaN  318.47012      NaN      NaN       NaN\n",
       "951  126017.000000       NaN  311.44263      NaN      NaN       NaN\n",
       "952  124115.769950       NaN  313.65668      NaN      NaN       NaN\n",
       "953  121148.148952       NaN  311.61799      NaN      NaN       NaN\n",
       "\n",
       "[954 rows x 6 columns]"
      ]
     },
     "execution_count": 25,
     "metadata": {},
     "output_type": "execute_result"
    }
   ],
   "source": [
    "acoes_df = pd.DataFrame()\n",
    "\n",
    "for ativo, resumo in zip(ativos, resumo_ativos):\n",
    "    indice = [r[\"date\"] for r in resumo]\n",
    "    acoes_df[ativo] = pd.DataFrame(resumo)[\"closing\"]\n",
    "\n",
    "# acoes_df[\"Date\"] = [r[\"date\"] for r in resumo_ativos[0]]\n",
    "acoes_df"
   ]
  },
  {
   "cell_type": "code",
   "execution_count": 26,
   "id": "dd5c2f70",
   "metadata": {},
   "outputs": [
    {
     "data": {
      "text/html": [
       "<div>\n",
       "<style scoped>\n",
       "    .dataframe tbody tr th:only-of-type {\n",
       "        vertical-align: middle;\n",
       "    }\n",
       "\n",
       "    .dataframe tbody tr th {\n",
       "        vertical-align: top;\n",
       "    }\n",
       "\n",
       "    .dataframe thead th {\n",
       "        text-align: right;\n",
       "    }\n",
       "</style>\n",
       "<table border=\"1\" class=\"dataframe\">\n",
       "  <thead>\n",
       "    <tr style=\"text-align: right;\">\n",
       "      <th></th>\n",
       "      <th>BITCOIN</th>\n",
       "      <th>CARDANO</th>\n",
       "      <th>LITECOIN</th>\n",
       "      <th>CHILIZ</th>\n",
       "      <th>USDC</th>\n",
       "      <th>NANO</th>\n",
       "    </tr>\n",
       "  </thead>\n",
       "  <tbody>\n",
       "    <tr>\n",
       "      <th>0</th>\n",
       "      <td>29118.000000</td>\n",
       "      <td>12.899560</td>\n",
       "      <td>167.09015</td>\n",
       "      <td>0.070000</td>\n",
       "      <td>5.445000</td>\n",
       "      <td>60.379490</td>\n",
       "    </tr>\n",
       "    <tr>\n",
       "      <th>1</th>\n",
       "      <td>28010.000000</td>\n",
       "      <td>12.439900</td>\n",
       "      <td>160.94876</td>\n",
       "      <td>0.068000</td>\n",
       "      <td>5.388500</td>\n",
       "      <td>62.549790</td>\n",
       "    </tr>\n",
       "    <tr>\n",
       "      <th>2</th>\n",
       "      <td>29670.481710</td>\n",
       "      <td>12.400000</td>\n",
       "      <td>170.29813</td>\n",
       "      <td>0.065400</td>\n",
       "      <td>5.467900</td>\n",
       "      <td>64.279890</td>\n",
       "    </tr>\n",
       "    <tr>\n",
       "      <th>3</th>\n",
       "      <td>30000.991580</td>\n",
       "      <td>12.331310</td>\n",
       "      <td>173.06007</td>\n",
       "      <td>0.065100</td>\n",
       "      <td>5.440010</td>\n",
       "      <td>65.480000</td>\n",
       "    </tr>\n",
       "    <tr>\n",
       "      <th>4</th>\n",
       "      <td>30199.990000</td>\n",
       "      <td>12.074080</td>\n",
       "      <td>177.90000</td>\n",
       "      <td>0.064390</td>\n",
       "      <td>5.398740</td>\n",
       "      <td>65.570010</td>\n",
       "    </tr>\n",
       "    <tr>\n",
       "      <th>...</th>\n",
       "      <td>...</td>\n",
       "      <td>...</td>\n",
       "      <td>...</td>\n",
       "      <td>...</td>\n",
       "      <td>...</td>\n",
       "      <td>...</td>\n",
       "    </tr>\n",
       "    <tr>\n",
       "      <th>949</th>\n",
       "      <td>125000.000000</td>\n",
       "      <td>5.946881</td>\n",
       "      <td>304.00004</td>\n",
       "      <td>1.091287</td>\n",
       "      <td>5.359013</td>\n",
       "      <td>115.072929</td>\n",
       "    </tr>\n",
       "    <tr>\n",
       "      <th>950</th>\n",
       "      <td>126708.000000</td>\n",
       "      <td>5.946881</td>\n",
       "      <td>318.47012</td>\n",
       "      <td>1.091287</td>\n",
       "      <td>5.359013</td>\n",
       "      <td>115.072929</td>\n",
       "    </tr>\n",
       "    <tr>\n",
       "      <th>951</th>\n",
       "      <td>126017.000000</td>\n",
       "      <td>5.946881</td>\n",
       "      <td>311.44263</td>\n",
       "      <td>1.091287</td>\n",
       "      <td>5.359013</td>\n",
       "      <td>115.072929</td>\n",
       "    </tr>\n",
       "    <tr>\n",
       "      <th>952</th>\n",
       "      <td>124115.769950</td>\n",
       "      <td>5.946881</td>\n",
       "      <td>313.65668</td>\n",
       "      <td>1.091287</td>\n",
       "      <td>5.359013</td>\n",
       "      <td>115.072929</td>\n",
       "    </tr>\n",
       "    <tr>\n",
       "      <th>953</th>\n",
       "      <td>121148.148952</td>\n",
       "      <td>5.946881</td>\n",
       "      <td>311.61799</td>\n",
       "      <td>1.091287</td>\n",
       "      <td>5.359013</td>\n",
       "      <td>115.072929</td>\n",
       "    </tr>\n",
       "  </tbody>\n",
       "</table>\n",
       "<p>954 rows × 6 columns</p>\n",
       "</div>"
      ],
      "text/plain": [
       "           BITCOIN    CARDANO   LITECOIN    CHILIZ      USDC        NANO\n",
       "0     29118.000000  12.899560  167.09015  0.070000  5.445000   60.379490\n",
       "1     28010.000000  12.439900  160.94876  0.068000  5.388500   62.549790\n",
       "2     29670.481710  12.400000  170.29813  0.065400  5.467900   64.279890\n",
       "3     30000.991580  12.331310  173.06007  0.065100  5.440010   65.480000\n",
       "4     30199.990000  12.074080  177.90000  0.064390  5.398740   65.570010\n",
       "..             ...        ...        ...       ...       ...         ...\n",
       "949  125000.000000   5.946881  304.00004  1.091287  5.359013  115.072929\n",
       "950  126708.000000   5.946881  318.47012  1.091287  5.359013  115.072929\n",
       "951  126017.000000   5.946881  311.44263  1.091287  5.359013  115.072929\n",
       "952  124115.769950   5.946881  313.65668  1.091287  5.359013  115.072929\n",
       "953  121148.148952   5.946881  311.61799  1.091287  5.359013  115.072929\n",
       "\n",
       "[954 rows x 6 columns]"
      ]
     },
     "execution_count": 26,
     "metadata": {},
     "output_type": "execute_result"
    }
   ],
   "source": [
    "for coluna in acoes_df:\n",
    "    acoes_df[coluna].fillna(acoes_df[coluna].mean(), inplace=True)\n",
    "acoes_df"
   ]
  },
  {
   "cell_type": "markdown",
   "id": "3381a1ea",
   "metadata": {},
   "source": [
    "### Teste de Homogeneidade da variância do Erro"
   ]
  },
  {
   "cell_type": "markdown",
   "id": "9eba3c4a",
   "metadata": {},
   "source": [
    "Pretende-se comparar os criptoativos em relação ao USDC. Por se tratar de uma *stablecoin*, isto é, tem o seu valor lastreado em uma moeda fiduciária, neste caso, o Dólar Americano. A criptomoeda USDC servirá de base de comparação com as demais, tendo em vista que o seu valor representa o valor do Dólar Americano à época."
   ]
  },
  {
   "cell_type": "code",
   "execution_count": 67,
   "id": "8d6159e8",
   "metadata": {},
   "outputs": [
    {
     "data": {
      "text/plain": [
       "(762.9414236826264, 1.5459366138282837e-141)"
      ]
     },
     "execution_count": 67,
     "metadata": {},
     "output_type": "execute_result"
    }
   ],
   "source": [
    "estatistica_F, p_valor"
   ]
  },
  {
   "cell_type": "code",
   "execution_count": 79,
   "id": "cf4912dc",
   "metadata": {},
   "outputs": [
    {
     "data": {
      "text/html": [
       "<div>\n",
       "<style scoped>\n",
       "    .dataframe tbody tr th:only-of-type {\n",
       "        vertical-align: middle;\n",
       "    }\n",
       "\n",
       "    .dataframe tbody tr th {\n",
       "        vertical-align: top;\n",
       "    }\n",
       "\n",
       "    .dataframe thead th {\n",
       "        text-align: right;\n",
       "    }\n",
       "</style>\n",
       "<table border=\"1\" class=\"dataframe\">\n",
       "  <thead>\n",
       "    <tr style=\"text-align: right;\">\n",
       "      <th></th>\n",
       "      <th>BITCOIN</th>\n",
       "      <th>CARDANO</th>\n",
       "      <th>LITECOIN</th>\n",
       "      <th>CHILIZ</th>\n",
       "      <th>NANO</th>\n",
       "    </tr>\n",
       "  </thead>\n",
       "  <tbody>\n",
       "    <tr>\n",
       "      <th>estatistica_F</th>\n",
       "      <td>3068.42429</td>\n",
       "      <td>1.557726e+02</td>\n",
       "      <td>1.791099e+03</td>\n",
       "      <td>5.163369e+02</td>\n",
       "      <td>7.629414e+02</td>\n",
       "    </tr>\n",
       "    <tr>\n",
       "      <th>p_valor</th>\n",
       "      <td>0.00000</td>\n",
       "      <td>2.021245e-34</td>\n",
       "      <td>1.601442e-276</td>\n",
       "      <td>2.389128e-101</td>\n",
       "      <td>1.545937e-141</td>\n",
       "    </tr>\n",
       "  </tbody>\n",
       "</table>\n",
       "</div>"
      ],
      "text/plain": [
       "                  BITCOIN       CARDANO       LITECOIN         CHILIZ  \\\n",
       "estatistica_F  3068.42429  1.557726e+02   1.791099e+03   5.163369e+02   \n",
       "p_valor           0.00000  2.021245e-34  1.601442e-276  2.389128e-101   \n",
       "\n",
       "                        NANO  \n",
       "estatistica_F   7.629414e+02  \n",
       "p_valor        1.545937e-141  "
      ]
     },
     "execution_count": 79,
     "metadata": {},
     "output_type": "execute_result"
    }
   ],
   "source": [
    "levene_df = pd.DataFrame(columns=[k for k in ativos.keys() if k != \"USDC\"], index=[\"estatistica_F\", \"p_valor\"])\n",
    "\n",
    "for coluna in levene_df:\n",
    "    levene_df[coluna] = levene(acoes_df[\"USDC\"], acoes_df[coluna])\n",
    "\n",
    "levene_df"
   ]
  },
  {
   "cell_type": "code",
   "execution_count": 83,
   "id": "504e310a",
   "metadata": {},
   "outputs": [
    {
     "data": {
      "text/html": [
       "<div>\n",
       "<style scoped>\n",
       "    .dataframe tbody tr th:only-of-type {\n",
       "        vertical-align: middle;\n",
       "    }\n",
       "\n",
       "    .dataframe tbody tr th {\n",
       "        vertical-align: top;\n",
       "    }\n",
       "\n",
       "    .dataframe thead th {\n",
       "        text-align: right;\n",
       "    }\n",
       "</style>\n",
       "<table border=\"1\" class=\"dataframe\">\n",
       "  <thead>\n",
       "    <tr style=\"text-align: right;\">\n",
       "      <th></th>\n",
       "      <th>BITCOIN</th>\n",
       "      <th>CARDANO</th>\n",
       "      <th>LITECOIN</th>\n",
       "      <th>CHILIZ</th>\n",
       "      <th>NANO</th>\n",
       "    </tr>\n",
       "  </thead>\n",
       "  <tbody>\n",
       "    <tr>\n",
       "      <th>K_squared</th>\n",
       "      <td>23349.312833</td>\n",
       "      <td>2483.70839</td>\n",
       "      <td>12745.147401</td>\n",
       "      <td>1.183827e+03</td>\n",
       "      <td>8533.816943</td>\n",
       "    </tr>\n",
       "    <tr>\n",
       "      <th>p_valor</th>\n",
       "      <td>0.000000</td>\n",
       "      <td>0.00000</td>\n",
       "      <td>0.000000</td>\n",
       "      <td>1.996110e-259</td>\n",
       "      <td>0.000000</td>\n",
       "    </tr>\n",
       "  </tbody>\n",
       "</table>\n",
       "</div>"
      ],
      "text/plain": [
       "                BITCOIN     CARDANO      LITECOIN         CHILIZ         NANO\n",
       "K_squared  23349.312833  2483.70839  12745.147401   1.183827e+03  8533.816943\n",
       "p_valor        0.000000     0.00000      0.000000  1.996110e-259     0.000000"
      ]
     },
     "execution_count": 83,
     "metadata": {},
     "output_type": "execute_result"
    }
   ],
   "source": [
    "bartlett_df = pd.DataFrame(columns=[k for k in ativos.keys() if k != \"USDC\"], index=[\"K_squared\", \"p_valor\"])\n",
    "\n",
    "for coluna in bartlett_df:\n",
    "    bartlett_df[coluna] = bartlett(acoes_df[\"USDC\"], acoes_df[coluna])\n",
    "\n",
    "bartlett_df"
   ]
  },
  {
   "cell_type": "markdown",
   "id": "2ab16cb6",
   "metadata": {},
   "source": [
    "### Gráfico de Avaliação de Normalidade dos Resíduos"
   ]
  },
  {
   "cell_type": "code",
   "execution_count": 86,
   "id": "cb3d063f",
   "metadata": {},
   "outputs": [
    {
     "data": {
      "text/html": [
       "<div>\n",
       "<style scoped>\n",
       "    .dataframe tbody tr th:only-of-type {\n",
       "        vertical-align: middle;\n",
       "    }\n",
       "\n",
       "    .dataframe tbody tr th {\n",
       "        vertical-align: top;\n",
       "    }\n",
       "\n",
       "    .dataframe thead th {\n",
       "        text-align: right;\n",
       "    }\n",
       "</style>\n",
       "<table border=\"1\" class=\"dataframe\">\n",
       "  <thead>\n",
       "    <tr style=\"text-align: right;\">\n",
       "      <th></th>\n",
       "      <th>BITCOIN</th>\n",
       "      <th>CARDANO</th>\n",
       "      <th>LITECOIN</th>\n",
       "      <th>CHILIZ</th>\n",
       "      <th>NANO</th>\n",
       "    </tr>\n",
       "  </thead>\n",
       "  <tbody>\n",
       "    <tr>\n",
       "      <th>f_valor</th>\n",
       "      <td>2527.832856</td>\n",
       "      <td>1.087859e+02</td>\n",
       "      <td>2423.398567</td>\n",
       "      <td>23891.813156</td>\n",
       "      <td>6482.705866</td>\n",
       "    </tr>\n",
       "    <tr>\n",
       "      <th>p_valor</th>\n",
       "      <td>0.000000</td>\n",
       "      <td>8.293112e-25</td>\n",
       "      <td>0.000000</td>\n",
       "      <td>0.000000</td>\n",
       "      <td>0.000000</td>\n",
       "    </tr>\n",
       "  </tbody>\n",
       "</table>\n",
       "</div>"
      ],
      "text/plain": [
       "             BITCOIN       CARDANO     LITECOIN        CHILIZ         NANO\n",
       "f_valor  2527.832856  1.087859e+02  2423.398567  23891.813156  6482.705866\n",
       "p_valor     0.000000  8.293112e-25     0.000000      0.000000     0.000000"
      ]
     },
     "execution_count": 86,
     "metadata": {},
     "output_type": "execute_result"
    }
   ],
   "source": [
    "anova_df = pd.DataFrame(columns=[k for k in ativos.keys() if k != \"USDC\"], index=[\"f_valor\", \"p_valor\"])\n",
    "\n",
    "for coluna in anova_df:\n",
    "    anova_df[coluna] = stats.f_oneway(acoes_df[\"USDC\"], acoes_df[coluna])\n",
    "\n",
    "anova_df"
   ]
  },
  {
   "cell_type": "code",
   "execution_count": 98,
   "id": "89a8384c",
   "metadata": {},
   "outputs": [
    {
     "data": {
      "image/png": "[encoded data removed]",
      "text/plain": [
       "<Figure size 432x288 with 1 Axes>"
      ]
     },
     "metadata": {
      "needs_background": "light"
     },
     "output_type": "display_data"
    }
   ],
   "source": [
    "# histograma\n",
    "plt.hist(np.sqrt(anova_df.iloc[0]), bins=\"auto\", histtype=\"bar\", ec=\"k\") \n",
    "plt.xlabel(\"Residuos\")\n",
    "plt.ylabel(\"Frequencia\")\n",
    "plt.show()"
   ]
  },
  {
   "cell_type": "code",
   "execution_count": 102,
   "id": "e5e870b8",
   "metadata": {},
   "outputs": [
    {
     "data": {
      "image/png": "[encoded data removed]",
      "text/plain": [
       "<Figure size 432x288 with 1 Axes>"
      ]
     },
     "metadata": {
      "needs_background": "light"
     },
     "output_type": "display_data"
    }
   ],
   "source": [
    "sm.qqplot(np.sqrt(anova_df.iloc[0]), line=\"45\")\n",
    "plt.xlabel(\"Theoretical Quantiles\")\n",
    "plt.ylabel(\"Standardized Residuals\")\n",
    "plt.show()"
   ]
  }
 ],
 "metadata": {
  "kernelspec": {
   "display_name": "Python 3 (ipykernel)",
   "language": "python",
   "name": "python3"
  },
  "language_info": {
   "codemirror_mode": {
    "name": "ipython",
    "version": 3
   },
   "file_extension": ".py",
   "mimetype": "text/x-python",
   "name": "python",
   "nbconvert_exporter": "python",
   "pygments_lexer": "ipython3",
   "version": "3.10.5"
  }
 },
 "nbformat": 4,
 "nbformat_minor": 5
}
