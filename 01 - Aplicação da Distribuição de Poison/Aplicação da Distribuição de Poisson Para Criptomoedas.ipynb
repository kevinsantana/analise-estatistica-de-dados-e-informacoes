{
 "cells": [
  {
   "cell_type": "markdown",
   "id": "828ffe6d",
   "metadata": {},
   "source": [
    "## Exemplo de Um Criptoativo: Bitcoin"
   ]
  },
  {
   "cell_type": "code",
   "execution_count": 70,
   "id": "bf89dad5",
   "metadata": {},
   "outputs": [],
   "source": [
    "import numpy as np\n",
    "\n",
    "import matplotlib.pyplot as plt\n",
    "from scipy.stats import poisson"
   ]
  },
  {
   "cell_type": "markdown",
   "id": "5491305d",
   "metadata": {},
   "source": [
    "O Mercado Bitcoin, maior corretora de criptomoedas da América Latina, disponibiliza uma [API pública](https://www.mercadobitcoin.com.br/api-doc/#method_trade_api_daysummary) onde é possível consultar o resumo diário de negociações realizadas para um dado criptoativo.\n",
    "\n",
    "\n",
    "Realizando a seguinte [chamada](https://www.mercadobitcoin.net/api/BTC/day-summary/2022/6/29/) tem-se os dados de negociação (compra e venda) do criptoativo \\textit{Bitcoin} (BTC) para o dia 29/06/2022. A partir do qual, é possível inferir o número de negociações realizadas para o dia solicitado, ou seja, \\textbf{Taxa de Ocorrência} do evento \\textbf{negociação do Bitcoin ao longo do dia}."
   ]
  },
  {
   "cell_type": "markdown",
   "id": "2db3f388",
   "metadata": {},
   "source": [
    "Assim, tem-se a seguinte equação:\n",
    "\n",
    "\\begin{equation}\n",
    "\\begin{cases}\n",
    "     \\mathbb{P}_X(X = x) = \\frac{e^{-\\lambda} \\lambda^x}{x!}\\\\\n",
    "     \\mathbb{P}_X = \\lambda\\\\\n",
    "     \\mathbb{V}_X = \\lambda\n",
    "\\end{cases}\n",
    "\\end{equation}\n",
    "\n",
    "Com:\n",
    "\n",
    "\\begin{equation}\n",
    "\\lambda = \\frac{4649}{24} = 193.70833333333334\\\\ \n",
    "\\end{equation}\n",
    "\n",
    "Em que o numerador representa a quantidade total de transações do ativo e denomidar a quantidade de horas no dia, assim, temos a frequência com que o ativo é negociado em uma hora."
   ]
  },
  {
   "cell_type": "markdown",
   "id": "16c4ca6f",
   "metadata": {},
   "source": [
    "Agora, deseja-se inferir se em uma dada hora haverá, ao menos, 100 negociações do ativo Bitcoin:"
   ]
  },
  {
   "cell_type": "code",
   "execution_count": 66,
   "id": "5a8eda55",
   "metadata": {},
   "outputs": [
    {
     "data": {
      "text/plain": [
       "99.9999999999915"
      ]
     },
     "execution_count": 66,
     "metadata": {},
     "output_type": "execute_result"
    }
   ],
   "source": [
    "n_sales = np.array(range(101))\n",
    "prob = 1 - sum(poisson.pmf(k=n_sales, mu=193.70833333333334))\n",
    "prob * 100"
   ]
  },
  {
   "cell_type": "markdown",
   "id": "40c475d9",
   "metadata": {},
   "source": [
    "Temos $99\\%$ de probabilidade com $\\lambda = 193.70833333333334$ de que ocorram ao menos 100 transações de Bitcoin."
   ]
  },
  {
   "cell_type": "markdown",
   "id": "c263e7f3",
   "metadata": {},
   "source": [
    "Agora, deseja-se simular se houvessem ao menos 100 transações a cada hora do dia, ou seja, $100 * 24 = 2400$ transações."
   ]
  },
  {
   "cell_type": "code",
   "execution_count": 80,
   "id": "428bb56d",
   "metadata": {},
   "outputs": [],
   "source": [
    "transactions_day = np.array(range(24001))\n",
    "prob_transactions_day = poisson.rvs(mu=193.70833333333334, size=2400)"
   ]
  },
  {
   "cell_type": "code",
   "execution_count": 90,
   "id": "e56bf194",
   "metadata": {},
   "outputs": [
    {
     "data": {
      "image/png": "[encoded data removed]",
      "text/plain": [
       "<Figure size 432x288 with 1 Axes>"
      ]
     },
     "metadata": {
      "needs_background": "light"
     },
     "output_type": "display_data"
    }
   ],
   "source": [
    "plt.ylabel(\"Probabilidade\", fontsize=\"18\")\n",
    "plt.xlabel(\"Quantidade de Transações\", fontsize=\"18\")\n",
    "plt.title(\"Simulação de Ocorrências de Transações Em Um Dia Com Lambda = 193.7085\")\n",
    "_ = plt.hist(prob_transactions_day, density=True, edgecolor=\"black\", color=\"orange\")"
   ]
  }
 ],
 "metadata": {
  "kernelspec": {
   "display_name": "Python 3 (ipykernel)",
   "language": "python",
   "name": "python3"
  },
  "language_info": {
   "codemirror_mode": {
    "name": "ipython",
    "version": 3
   },
   "file_extension": ".py",
   "mimetype": "text/x-python",
   "name": "python",
   "nbconvert_exporter": "python",
   "pygments_lexer": "ipython3",
   "version": "3.10.5"
  }
 },
 "nbformat": 4,
 "nbformat_minor": 5
}
