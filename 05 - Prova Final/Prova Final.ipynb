{
 "cells": [
  {
   "cell_type": "markdown",
   "id": "5bb21642",
   "metadata": {},
   "source": [
    "## Prova Final"
   ]
  },
  {
   "cell_type": "markdown",
   "id": "c8b6c073",
   "metadata": {},
   "source": [
    "## Portfólio com Ações Do Mercado De Criptoativos"
   ]
  },
  {
   "cell_type": "code",
   "execution_count": 2,
   "id": "066d9427",
   "metadata": {},
   "outputs": [],
   "source": [
    "from datetime import date\n",
    "\n",
    "import yfinance"
   ]
  },
  {
   "cell_type": "markdown",
   "id": "85469d7a",
   "metadata": {},
   "source": [
    "Utilizou-se a base de dados do yahoo finance bara buscar criptoativos, isto é, ativos do mercado de criptomoedas. O Yahoo Finance, no entanto, não conta com dados pareados dos ativos em reais, assim, foi utilizada a moeda fiduciária \\textit{Dolár Americano}. Como índice para a bolsa, por se tratar de um mercado não regulado e altamente volátil, como indicador do mercado foi utilizado o ativo \\textit{USDC} que é uma \\textit{stablecoin}.\n",
    "\n",
    "\\textit{Stablecoins}, também chamadas de moedas estáveis, são criptomoedas pareadas em algum ativo estável ou cesta de ativos, de modo a controlar a volatilidade. Neste caso o ativo \\textit{USDC} tem seu valor pareado ao \\textit{Dolár Americano}.\n",
    "\n",
    "O período analisado diz respeito ao ínicio de 2019 até os dias atuais. A data de início escolhida tem ligação com a criação do ativo \\textit{USDC} que começou a ser negociado no final de 2018."
   ]
  },
  {
   "cell_type": "code",
   "execution_count": 32,
   "id": "710852dd",
   "metadata": {},
   "outputs": [
    {
     "name": "stdout",
     "output_type": "stream",
     "text": [
      "[*********************100%***********************]  5 of 5 completed\n"
     ]
    }
   ],
   "source": [
    "acoes = [\"BTC-USD\", \"ADA-USD\", \"LTC-USD\", \"ETH-USD\", \"USDC-USD\"]\n",
    "data_inicio = \"2019-01-01\"\n",
    "data_fim = date.today().strftime(\"%Y-%m-%d\")\n",
    "\n",
    "acoes_df = yfinance.download(acoes, data_inicio, data_fim)['Close']"
   ]
  },
  {
   "cell_type": "code",
   "execution_count": 33,
   "id": "dd0d0d82",
   "metadata": {},
   "outputs": [
    {
     "name": "stdout",
     "output_type": "stream",
     "text": [
      "<class 'pandas.core.frame.DataFrame'>\n",
      "DatetimeIndex: 1362 entries, 2019-01-01 to 2022-09-23\n",
      "Data columns (total 5 columns):\n",
      " #   Column    Non-Null Count  Dtype  \n",
      "---  ------    --------------  -----  \n",
      " 0   ADA-USD   1362 non-null   float64\n",
      " 1   BTC-USD   1362 non-null   float64\n",
      " 2   ETH-USD   1362 non-null   float64\n",
      " 3   LTC-USD   1362 non-null   float64\n",
      " 4   USDC-USD  1362 non-null   float64\n",
      "dtypes: float64(5)\n",
      "memory usage: 63.8 KB\n"
     ]
    }
   ],
   "source": [
    "acoes_df.info()"
   ]
  },
  {
   "cell_type": "markdown",
   "id": "9236de00",
   "metadata": {},
   "source": [
    "## Otimização do Portfólio"
   ]
  },
  {
   "cell_type": "code",
   "execution_count": null,
   "id": "7cac100e",
   "metadata": {},
   "outputs": [],
   "source": []
  },
  {
   "cell_type": "markdown",
   "id": "e69dca40",
   "metadata": {},
   "source": [
    "## Análise Descritiva dos Dados"
   ]
  },
  {
   "cell_type": "code",
   "execution_count": null,
   "id": "526db8b7",
   "metadata": {},
   "outputs": [],
   "source": []
  }
 ],
 "metadata": {
  "kernelspec": {
   "display_name": "Python 3 (ipykernel)",
   "language": "python",
   "name": "python3"
  },
  "language_info": {
   "codemirror_mode": {
    "name": "ipython",
    "version": 3
   },
   "file_extension": ".py",
   "mimetype": "text/x-python",
   "name": "python",
   "nbconvert_exporter": "python",
   "pygments_lexer": "ipython3",
   "version": "3.10.5"
  }
 },
 "nbformat": 4,
 "nbformat_minor": 5
}
